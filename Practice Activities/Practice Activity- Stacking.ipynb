{
 "cells": [
  {
   "cell_type": "code",
   "execution_count": 17,
   "metadata": {},
   "outputs": [
    {
     "name": "stdout",
     "output_type": "stream",
     "text": [
      "Collecting xgboost\n",
      "  Downloading xgboost-3.0.0-py3-none-macosx_10_15_x86_64.whl.metadata (2.1 kB)\n",
      "Requirement already satisfied: numpy in /Applications/anaconda3/lib/python3.12/site-packages (from xgboost) (1.26.4)\n",
      "Requirement already satisfied: scipy in /Applications/anaconda3/lib/python3.12/site-packages (from xgboost) (1.13.1)\n",
      "Downloading xgboost-3.0.0-py3-none-macosx_10_15_x86_64.whl (2.2 MB)\n",
      "\u001b[2K   \u001b[90m━━━━━━━━━━━━━━━━━━━━━━━━━━━━━━━━━━━━━━━━\u001b[0m \u001b[32m2.2/2.2 MB\u001b[0m \u001b[31m10.1 MB/s\u001b[0m eta \u001b[36m0:00:00\u001b[0m00:01\u001b[0m00:01\u001b[0m\n",
      "\u001b[?25hInstalling collected packages: xgboost\n",
      "Successfully installed xgboost-3.0.0\n",
      "Note: you may need to restart the kernel to use updated packages.\n"
     ]
    }
   ],
   "source": [
    "pip install xgboost"
   ]
  },
  {
   "cell_type": "code",
   "execution_count": 18,
   "metadata": {},
   "outputs": [],
   "source": [
    "import pandas as pd\n",
    "import numpy as np\n",
    "from sklearn.compose import make_column_selector, ColumnTransformer\n",
    "from sklearn.preprocessing import StandardScaler, OneHotEncoder\n",
    "from sklearn.pipeline import Pipeline\n",
    "from sklearn.model_selection import train_test_split, cross_val_score\n",
    "from sklearn.ensemble import RandomForestRegressor, StackingRegressor, BaggingRegressor\n",
    "from sklearn.linear_model import LinearRegression, Ridge, RidgeCV, LassoCV\n",
    "from sklearn.svm import SVR\n",
    "from sklearn.neighbors import KNeighborsRegressor\n",
    "from xgboost import XGBRegressor\n",
    "from sklearn.metrics import mean_squared_error, mean_absolute_error, r2_score\n",
    "import matplotlib.pyplot as plt\n",
    "import seaborn as sns"
   ]
  },
  {
   "cell_type": "code",
   "execution_count": 7,
   "metadata": {},
   "outputs": [
    {
     "name": "stdout",
     "output_type": "stream",
     "text": [
      "{'uci_id': 1, 'name': 'Abalone', 'repository_url': 'https://archive.ics.uci.edu/dataset/1/abalone', 'data_url': 'https://archive.ics.uci.edu/static/public/1/data.csv', 'abstract': 'Predict the age of abalone from physical measurements', 'area': 'Biology', 'tasks': ['Classification', 'Regression'], 'characteristics': ['Tabular'], 'num_instances': 4177, 'num_features': 8, 'feature_types': ['Categorical', 'Integer', 'Real'], 'demographics': [], 'target_col': ['Rings'], 'index_col': None, 'has_missing_values': 'no', 'missing_values_symbol': None, 'year_of_dataset_creation': 1994, 'last_updated': 'Mon Aug 28 2023', 'dataset_doi': '10.24432/C55C7W', 'creators': ['Warwick Nash', 'Tracy Sellers', 'Simon Talbot', 'Andrew Cawthorn', 'Wes Ford'], 'intro_paper': None, 'additional_info': {'summary': 'Predicting the age of abalone from physical measurements.  The age of abalone is determined by cutting the shell through the cone, staining it, and counting the number of rings through a microscope -- a boring and time-consuming task.  Other measurements, which are easier to obtain, are used to predict the age.  Further information, such as weather patterns and location (hence food availability) may be required to solve the problem.\\r\\n\\r\\nFrom the original data examples with missing values were removed (the majority having the predicted value missing), and the ranges of the continuous values have been scaled for use with an ANN (by dividing by 200).', 'purpose': None, 'funded_by': None, 'instances_represent': None, 'recommended_data_splits': None, 'sensitive_data': None, 'preprocessing_description': None, 'variable_info': 'Given is the attribute name, attribute type, the measurement unit and a brief description.  The number of rings is the value to predict: either as a continuous value or as a classification problem.\\r\\n\\r\\nName / Data Type / Measurement Unit / Description\\r\\n-----------------------------\\r\\nSex / nominal / -- / M, F, and I (infant)\\r\\nLength / continuous / mm / Longest shell measurement\\r\\nDiameter\\t/ continuous / mm / perpendicular to length\\r\\nHeight / continuous / mm / with meat in shell\\r\\nWhole weight / continuous / grams / whole abalone\\r\\nShucked weight / continuous\\t / grams / weight of meat\\r\\nViscera weight / continuous / grams / gut weight (after bleeding)\\r\\nShell weight / continuous / grams / after being dried\\r\\nRings / integer / -- / +1.5 gives the age in years\\r\\n\\r\\nThe readme file contains attribute statistics.', 'citation': None}}\n",
      "             name     role         type demographic  \\\n",
      "0             Sex  Feature  Categorical        None   \n",
      "1          Length  Feature   Continuous        None   \n",
      "2        Diameter  Feature   Continuous        None   \n",
      "3          Height  Feature   Continuous        None   \n",
      "4    Whole_weight  Feature   Continuous        None   \n",
      "5  Shucked_weight  Feature   Continuous        None   \n",
      "6  Viscera_weight  Feature   Continuous        None   \n",
      "7    Shell_weight  Feature   Continuous        None   \n",
      "8           Rings   Target      Integer        None   \n",
      "\n",
      "                   description  units missing_values  \n",
      "0         M, F, and I (infant)   None             no  \n",
      "1    Longest shell measurement     mm             no  \n",
      "2      perpendicular to length     mm             no  \n",
      "3           with meat in shell     mm             no  \n",
      "4                whole abalone  grams             no  \n",
      "5               weight of meat  grams             no  \n",
      "6  gut weight (after bleeding)  grams             no  \n",
      "7            after being dried  grams             no  \n",
      "8  +1.5 gives the age in years   None             no  \n"
     ]
    }
   ],
   "source": [
    "from ucimlrepo import fetch_ucirepo \n",
    "\n",
    "# fetch dataset \n",
    "abalone = fetch_ucirepo(id=1) \n",
    "  \n",
    "# data (as pandas dataframes) \n",
    "X = abalone.data.features \n",
    "y = abalone.data.targets \n",
    "  \n",
    "# metadata \n",
    "print(abalone.metadata) \n",
    "  \n",
    "# variable information \n",
    "print(abalone.variables) "
   ]
  },
  {
   "cell_type": "code",
   "execution_count": 9,
   "metadata": {},
   "outputs": [],
   "source": [
    "ct = ColumnTransformer(\n",
    "    [\n",
    "        # Dummify all categorical columns\n",
    "        (\"dummify\", OneHotEncoder(handle_unknown=\"ignore\", sparse_output=False), make_column_selector(dtype_include=object)),\n",
    "\n",
    "        # Standardize numerical columns\n",
    "        (\"standardize\", StandardScaler(), make_column_selector(dtype_include=np.number))\n",
    "    ],\n",
    "    # Keeps any column not specified in ct as is in final output\n",
    "    remainder='passthrough'  \n",
    ")\n",
    "\n",
    "# Split data into training and test sets\n",
    "X_train, X_test, y_train, y_test = train_test_split(X, y, test_size=0.3, random_state=42)\n",
    "\n",
    "# Define base models (level-0 models) — these are your experts\n",
    "base_models = [\n",
    "    # Random Forest Regressor — tree-based model, good for handling non-linear patterns\n",
    "    ('rf', RandomForestRegressor(n_estimators=100)),\n",
    "\n",
    "    # KNN with StandardScaler — KNN needs scaled features for distance calculations\n",
    "    ('knn', KNeighborsRegressor(n_neighbors=5)),\n",
    "\n",
    "    # SVR with StandardScaler — Support Vector Regression also sensitive to feature scaling\n",
    "    ('svr', SVR())\n",
    "]\n",
    "\n",
    "# Define meta-model (level-1 model) — the judge that combines the base models’ predictions\n",
    "meta_model = Ridge()  # Regularized linear regression model to avoid overfitting\n",
    "\n",
    "# Build the stacking regressor ensemble\n",
    "stack = StackingRegressor(\n",
    "    estimators=base_models,      # Base models\n",
    "    final_estimator=meta_model,  # Meta-model\n",
    "    cv=5                         # 5-fold cross-validation to avoid data leakage to meta-model\n",
    ")"
   ]
  },
  {
   "cell_type": "code",
   "execution_count": 10,
   "metadata": {},
   "outputs": [
    {
     "name": "stderr",
     "output_type": "stream",
     "text": [
      "/Applications/anaconda3/lib/python3.12/site-packages/sklearn/ensemble/_stacking.py:967: DataConversionWarning: A column-vector y was passed when a 1d array was expected. Please change the shape of y to (n_samples, ), for example using ravel().\n",
      "  y = column_or_1d(y, warn=True)\n"
     ]
    },
    {
     "name": "stdout",
     "output_type": "stream",
     "text": [
      "RMSE: 2.136488989760084\n",
      "MAE: 1.527231270925299\n",
      "R²: 0.5504890051720036\n"
     ]
    },
    {
     "name": "stderr",
     "output_type": "stream",
     "text": [
      "/Applications/anaconda3/lib/python3.12/site-packages/sklearn/metrics/_regression.py:483: FutureWarning: 'squared' is deprecated in version 1.4 and will be removed in 1.6. To calculate the root mean squared error, use the function'root_mean_squared_error'.\n",
      "  warnings.warn(\n"
     ]
    }
   ],
   "source": [
    "# Full pipeline = preprocessing + stacking model\n",
    "full_pipeline = Pipeline([\n",
    "    ('preprocessing', ct),\n",
    "    ('model', stack)\n",
    "])\n",
    "\n",
    "# Fit the pipeline to the training data\n",
    "full_pipeline.fit(X_train, y_train)\n",
    "\n",
    "# Make predictions on the test set\n",
    "y_pred = full_pipeline.predict(X_test)\n",
    "\n",
    "# Evaluate the model\n",
    "rmse = mean_squared_error(y_test, y_pred, squared=False)\n",
    "mae = mean_absolute_error(y_test, y_pred)\n",
    "r2 = r2_score(y_test, y_pred)\n",
    "\n",
    "print(f\"RMSE: {rmse}\")\n",
    "print(f\"MAE: {mae}\")\n",
    "print(f\"R²: {r2}\")"
   ]
  },
  {
   "cell_type": "code",
   "execution_count": 16,
   "metadata": {},
   "outputs": [
    {
     "name": "stderr",
     "output_type": "stream",
     "text": [
      "/Applications/anaconda3/lib/python3.12/site-packages/sklearn/ensemble/_stacking.py:967: DataConversionWarning: A column-vector y was passed when a 1d array was expected. Please change the shape of y to (n_samples, ), for example using ravel().\n",
      "  y = column_or_1d(y, warn=True)\n"
     ]
    },
    {
     "name": "stdout",
     "output_type": "stream",
     "text": [
      "\n",
      "Second Stacking Model:\n",
      "RMSE: 2.255827328897104\n",
      "MAE: 1.6242424242424245\n",
      "R²: 0.4988696471563113\n"
     ]
    },
    {
     "name": "stderr",
     "output_type": "stream",
     "text": [
      "/Applications/anaconda3/lib/python3.12/site-packages/sklearn/metrics/_regression.py:483: FutureWarning: 'squared' is deprecated in version 1.4 and will be removed in 1.6. To calculate the root mean squared error, use the function'root_mean_squared_error'.\n",
      "  warnings.warn(\n"
     ]
    }
   ],
   "source": [
    "base_models = [\n",
    "    ('linear_regression', LinearRegression()),\n",
    "    ('ridge', RidgeCV()),\n",
    "    ('lasso', LassoCV()),\n",
    "    ('knn',  KNeighborsRegressor(n_neighbors=5)),\n",
    "    ('svr', SVR())\n",
    "]\n",
    "meta_model = RandomForestRegressor(n_estimators=100)\n",
    "\n",
    "stack = StackingRegressor(\n",
    "    estimators=base_models,\n",
    "    final_estimator=meta_model,\n",
    "    cv=5,\n",
    "    passthrough=False  \n",
    ")\n",
    "\n",
    "# Full pipeline = preprocessing + stacking model\n",
    "full_pipeline2 = Pipeline([\n",
    "    ('preprocessing', ct),\n",
    "    ('model', stack)\n",
    "])\n",
    "\n",
    "# Fit the pipeline to the training data\n",
    "full_pipeline2.fit(X_train, y_train)\n",
    "\n",
    "# Make predictions on the test set\n",
    "y_pred2 = full_pipeline2.predict(X_test)\n",
    "\n",
    "# Evaluate the model\n",
    "rmse2 = mean_squared_error(y_test, y_pred2, squared=False)\n",
    "mae2 = mean_absolute_error(y_test, y_pred2)\n",
    "r2_2 = r2_score(y_test, y_pred2)\n",
    "\n",
    "print(\"\\nSecond Stacking Model:\")\n",
    "print(f\"RMSE: {rmse2}\")\n",
    "print(f\"MAE: {mae2}\")\n",
    "print(f\"R²: {r2_2}\")"
   ]
  },
  {
   "cell_type": "code",
   "execution_count": 23,
   "metadata": {},
   "outputs": [
    {
     "name": "stderr",
     "output_type": "stream",
     "text": [
      "/Applications/anaconda3/lib/python3.12/site-packages/sklearn/ensemble/_stacking.py:967: DataConversionWarning: A column-vector y was passed when a 1d array was expected. Please change the shape of y to (n_samples, ), for example using ravel().\n",
      "  y = column_or_1d(y, warn=True)\n"
     ]
    },
    {
     "name": "stdout",
     "output_type": "stream",
     "text": [
      "\n",
      "Second Stacking Model:\n",
      "RMSE: 2.466504298002439\n",
      "MAE: 1.7299308878256248\n",
      "R²: 0.4008952624436244\n"
     ]
    },
    {
     "name": "stderr",
     "output_type": "stream",
     "text": [
      "/Applications/anaconda3/lib/python3.12/site-packages/sklearn/metrics/_regression.py:483: FutureWarning: 'squared' is deprecated in version 1.4 and will be removed in 1.6. To calculate the root mean squared error, use the function'root_mean_squared_error'.\n",
      "  warnings.warn(\n"
     ]
    }
   ],
   "source": [
    "base_models = [\n",
    "    ('linear', LinearRegression()),\n",
    "    ('ridge', RidgeCV()),\n",
    "    ('lasso', LassoCV()),\n",
    "    ('knn', KNeighborsRegressor(n_neighbors=5)),\n",
    "    ('xgb', XGBRegressor(n_estimators=100, random_state=42))\n",
    "]\n",
    "\n",
    "meta_model = KNeighborsRegressor(n_neighbors=3)\n",
    "\n",
    "stack = StackingRegressor(\n",
    "    estimators=base_models,\n",
    "    final_estimator=meta_model,\n",
    "    cv=5,\n",
    "    passthrough=False  \n",
    ")\n",
    "\n",
    "# Full pipeline = preprocessing + stacking model\n",
    "full_pipeline3 = Pipeline([\n",
    "    ('preprocessing', ct),\n",
    "    ('model', stack)\n",
    "])\n",
    "\n",
    "# Fit the pipeline to the training data\n",
    "full_pipeline3.fit(X_train, y_train)\n",
    "\n",
    "# Make predictions on the test set\n",
    "y_pred3 = full_pipeline3.predict(X_test)\n",
    "\n",
    "# Evaluate the model\n",
    "rmse3 = mean_squared_error(y_test, y_pred3, squared=False)\n",
    "mae3 = mean_absolute_error(y_test, y_pred3)\n",
    "r2_3 = r2_score(y_test, y_pred3)\n",
    "\n",
    "print(\"\\nSecond Stacking Model:\")\n",
    "print(f\"RMSE: {rmse3}\")\n",
    "print(f\"MAE: {mae3}\")\n",
    "print(f\"R²: {r2_3}\")"
   ]
  },
  {
   "cell_type": "markdown",
   "metadata": {},
   "source": [
    "The first stacking model I tried performed similar to bagging. It has a slightly better RMSE and R^2 than bagging. The other two stacking models I tried performed worse. "
   ]
  }
 ],
 "metadata": {
  "kernelspec": {
   "display_name": "base",
   "language": "python",
   "name": "python3"
  },
  "language_info": {
   "codemirror_mode": {
    "name": "ipython",
    "version": 3
   },
   "file_extension": ".py",
   "mimetype": "text/x-python",
   "name": "python",
   "nbconvert_exporter": "python",
   "pygments_lexer": "ipython3",
   "version": "3.12.4"
  }
 },
 "nbformat": 4,
 "nbformat_minor": 2
}
