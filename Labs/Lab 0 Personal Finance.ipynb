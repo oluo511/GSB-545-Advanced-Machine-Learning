{
 "cells": [
  {
   "cell_type": "markdown",
   "metadata": {},
   "source": [
    "# What is your estimate of the cost-of-living in your desired place to live, per month? You should justify this estimate by citing online sources or other relevant information. You should also break this down into component costs (e.g. housing, utilities, car, gas, internet, food, entertainment, etc.) as much as you can. \n",
    "\n",
    "The estimate cost-of-living is based on New York or San Francisco becauses I want to be in a big city, so I rather overestimate than underestimate"
   ]
  },
  {
   "cell_type": "code",
   "execution_count": 12,
   "metadata": {},
   "outputs": [
    {
     "name": "stdout",
     "output_type": "stream",
     "text": [
      "Monthly Cost of Living: 4372.5\n",
      "Annual Cost of Living: 52470.0\n"
     ]
    }
   ],
   "source": [
    "# Defining monthly costs\n",
    "rent = 2000 # Avg rent in NYC or SF with roommate (cheaper if more than 1)\n",
    "transportation = 300 # including car, public transportation, insurance, and gas based on how much I drive now  \n",
    "groceries = 600\n",
    "eating_out = 200\n",
    "entertainment = 200 # like going out\n",
    "gym = 300 # includes gym and MMA membership\n",
    "hobbies = 200 # music, games\n",
    "\n",
    "# Utilities split with roommate\n",
    "gas = 100 / 2\n",
    "water = 50 / 2\n",
    "electricity = 100 / 2\n",
    "wifi = 70 / 2\n",
    "trash = 30 / 2\n",
    "\n",
    "monthly_cost = sum([rent, transportation, groceries, eating_out, entertainment, \n",
    "                    gym, hobbies, gas, water, electricity, wifi, trash]) *1.1 # 10% extra for unexpected costs\n",
    "\n",
    "annual_cost = monthly_cost * 12\n",
    "\n",
    "print(\"Monthly Cost of Living:\", monthly_cost)\n",
    "print(\"Annual Cost of Living:\", annual_cost)"
   ]
  },
  {
   "cell_type": "markdown",
   "metadata": {},
   "source": [
    "#  What is the annual salary you need to afford the costs you outlined above? This should, in essence, be the minimum salary you need to afford the life you could live happily (you could probably survive on less, but let's not get too detailed here). Be careful to consider whether you're taking taxes into account! We don't need to get too detailed here either, but you should try to estimate what your actual take-home pay is versus the gross salary that you might be presented with in the offer from your employer."
   ]
  },
  {
   "cell_type": "code",
   "execution_count": 13,
   "metadata": {},
   "outputs": [
    {
     "name": "stdout",
     "output_type": "stream",
     "text": [
      "Gross Salary Needed: 74957.14\n"
     ]
    }
   ],
   "source": [
    "# Assuming 30% tax rate\n",
    "tax_rate = 0.30\n",
    "\n",
    "# Calculate gross salary needed\n",
    "gross_salary_needed = annual_cost / (1 - tax_rate)\n",
    "\n",
    "print(\"Gross Salary Needed:\", round(gross_salary_needed, 2))"
   ]
  },
  {
   "cell_type": "markdown",
   "metadata": {},
   "source": [
    "# What is the annual salary you WANT? I imagine this will be higher than what was previously mentioned. What do you want the additional income for?\n",
    "\n",
    "Based on the gross salary needed, the annual salary I want is at least $95,000. I would use the extra money for savings, investing, and traveling. Majority will go into savings and investments."
   ]
  },
  {
   "cell_type": "markdown",
   "metadata": {},
   "source": [
    "# Finally, when do you want to retire and with how much money? This is where the bulk of your computations for this assignment will be, and you may need to do some research into how these things are computed. Your job may have retirement funding built into it; it may not. Additionally, there are some calculators online that do some of these types of calculations for you. I'd like you to (re-)do these calculations as much as possible on your own in Python.\n",
    "- What salary do you need to retire when you want with the amount that you specified?\n",
    "- Please include citations or justification for the formulas you're using to compute all of this."
   ]
  },
  {
   "cell_type": "code",
   "execution_count": 14,
   "metadata": {},
   "outputs": [],
   "source": [
    "current_age = 22\n",
    "desired_retirement_ages = [40, 45, 50, 60] # trying multiple scenarios\n",
    "expected_annual_return = 0.07 # average annual return of 7%\n",
    "withdrawal_rate = 0.03 # usually 4% but 3% safer for early retirement\n",
    "annual_retirement_expenses = 70000 # estimated annual expenses in retirement higher bc lifestyle change\n",
    "inflation_rate = 0.02 # average inflation rate"
   ]
  },
  {
   "cell_type": "code",
   "execution_count": 15,
   "metadata": {},
   "outputs": [
    {
     "name": "stdout",
     "output_type": "stream",
     "text": [
      "You need $2,333,333.33 saved to retire with $70,000/year.\n"
     ]
    }
   ],
   "source": [
    "# Calculate Required Retirement Savings (Nest Egg)\n",
    "def calculate_nest_egg(spending, withdrawal_rate):\n",
    "    return spending / withdrawal_rate\n",
    "\n",
    "required_nest_egg = calculate_nest_egg(annual_retirement_expenses, withdrawal_rate)\n",
    "print(f\"You need ${required_nest_egg:,.2f} saved to retire with ${annual_retirement_expenses:,}/year.\")"
   ]
  },
  {
   "cell_type": "code",
   "execution_count": 17,
   "metadata": {},
   "outputs": [
    {
     "name": "stdout",
     "output_type": "stream",
     "text": [
      "To retire at 40, save $68,629.40/year for 18 years.\n",
      "To retire at 45, save $43,665.83/year for 23 years.\n",
      "To retire at 50, save $28,914.50/year for 28 years.\n",
      "To retire at 60, save $13,521.79/year for 38 years.\n"
     ]
    }
   ],
   "source": [
    "# Calculate Annual Savings Needed\n",
    "def required_annual_savings(nest_egg, years_to_save, annual_return):\n",
    "    factor = ((1 + annual_return) ** years_to_save - 1) / annual_return\n",
    "    return nest_egg / factor\n",
    "\n",
    "for retirement_age in desired_retirement_ages:\n",
    "    years_to_save = retirement_age - current_age\n",
    "    annual_savings = required_annual_savings(required_nest_egg, years_to_save, expected_annual_return)\n",
    "    print(f\"To retire at {retirement_age}, save ${annual_savings:,.2f}/year for {years_to_save} years.\")"
   ]
  },
  {
   "cell_type": "code",
   "execution_count": 22,
   "metadata": {},
   "outputs": [
    {
     "name": "stdout",
     "output_type": "stream",
     "text": [
      "Retire at 40:\n",
      " - Save $68,629.40/year\n",
      " - After-tax income needed: $121,099.40\n",
      " - Estimated gross salary: $172,999.15\n",
      "Retire at 45:\n",
      " - Save $43,665.83/year\n",
      " - After-tax income needed: $96,135.83\n",
      " - Estimated gross salary: $137,336.90\n",
      "Retire at 50:\n",
      " - Save $28,914.50/year\n",
      " - After-tax income needed: $81,384.50\n",
      " - Estimated gross salary: $116,263.57\n",
      "Retire at 60:\n",
      " - Save $13,521.79/year\n",
      " - After-tax income needed: $65,991.79\n",
      " - Estimated gross salary: $94,273.98\n"
     ]
    }
   ],
   "source": [
    "tax_rate = 0.30  # 30%\n",
    "\n",
    "for retirement_age in desired_retirement_ages:\n",
    "    years_to_save = retirement_age - current_age\n",
    "    annual_saving_needed = required_annual_savings(required_nest_egg, years_to_save, expected_annual_return)\n",
    "    after_tax_income_needed = annual_saving_needed + annual_cost\n",
    "    gross_income_needed = after_tax_income_needed / (1 - tax_rate)\n",
    "\n",
    "    print(f\"Retire at {retirement_age}:\")\n",
    "    print(f\" - Save ${annual_saving_needed:,.2f}/year\")\n",
    "    print(f\" - After-tax income needed: ${after_tax_income_needed:,.2f}\")\n",
    "    print(f\" - Estimated gross salary: ${gross_income_needed:,.2f}\")"
   ]
  },
  {
   "cell_type": "markdown",
   "metadata": {},
   "source": [
    "# Sources\n",
    "Nest Egg: \n",
    "- https://smartasset.com/retirement/nest-egg\n",
    "- Annual Retirement Spending/Withdrawal Rate\n",
    "\n",
    "Future Value:\n",
    "- https://www.investopedia.com/terms/f/futurevalue.asp\n",
    "- Annual Saving = (Nest Egg * r)/((1 + r)^n - 1)\n",
    "\n",
    "Gross Income:\n",
    "- https://www.investopedia.com/terms/t/take-home-pay.asp\n",
    "- Gross Income = After-Tax Income/1 - tax rate"
   ]
  }
 ],
 "metadata": {
  "kernelspec": {
   "display_name": "base",
   "language": "python",
   "name": "python3"
  },
  "language_info": {
   "codemirror_mode": {
    "name": "ipython",
    "version": 3
   },
   "file_extension": ".py",
   "mimetype": "text/x-python",
   "name": "python",
   "nbconvert_exporter": "python",
   "pygments_lexer": "ipython3",
   "version": "3.12.4"
  }
 },
 "nbformat": 4,
 "nbformat_minor": 2
}
